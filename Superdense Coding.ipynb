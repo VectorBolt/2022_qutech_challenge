{
 "cells": [
  {
   "cell_type": "markdown",
   "metadata": {},
   "source": [
    "## Imports"
   ]
  },
  {
   "cell_type": "code",
   "execution_count": 7,
   "metadata": {},
   "outputs": [],
   "source": [
    "from qiskit import QuantumCircuit, QuantumRegister, execute, transpile, Aer, QuantumRegister   \n",
    "from qiskit.visualization  import plot_histogram\n",
    "import numpy as np"
   ]
  },
  {
   "cell_type": "code",
   "execution_count": 23,
   "metadata": {},
   "outputs": [],
   "source": [
    "from quantuminspire.credentials import enable_account\n",
    "from quantuminspire.qiskit import QI"
   ]
  },
  {
   "cell_type": "markdown",
   "metadata": {
    "tags": []
   },
   "source": [
    "### Authentication"
   ]
  },
  {
   "cell_type": "code",
   "execution_count": 26,
   "metadata": {},
   "outputs": [
    {
     "name": "stdout",
     "output_type": "stream",
     "text": [
      "Enter email:\n"
     ]
    },
    {
     "name": "stdin",
     "output_type": "stream",
     "text": [
      " avneeshverma03@gmail.com\n"
     ]
    },
    {
     "name": "stdout",
     "output_type": "stream",
     "text": [
      "Enter password\n"
     ]
    },
    {
     "name": "stdin",
     "output_type": "stream",
     "text": [
      " ····················\n"
     ]
    }
   ],
   "source": [
    "from getpass import getpass\n",
    "\n",
    "def get_authentication():\n",
    "    \"\"\"Gets the authentication for connecting to the\n",
    "       Quantum Inspire API.\n",
    "    \"\"\"\n",
    "    print(\"Enter email:\")\n",
    "    email = input()\n",
    "    print(\"Enter password\")\n",
    "    password = getpass()\n",
    "    return email, password \n",
    "\n",
    "if 'authentication' not in vars().keys():\n",
    "    authentication = get_authentication()\n",
    "    QI.set_authentication_details(*authentication)\n",
    "    qi_backend = QI.get_backend('QX single-node simulator')"
   ]
  },
  {
   "cell_type": "markdown",
   "metadata": {},
   "source": [
    "## Circuit creation functions"
   ]
  },
  {
   "cell_type": "code",
   "execution_count": 86,
   "metadata": {},
   "outputs": [],
   "source": [
    "def create_bell_pair(circ):\n",
    "    circ.h(0)\n",
    "    circ.cx(0,1)\n",
    "    circ.barrier()"
   ]
  },
  {
   "cell_type": "code",
   "execution_count": 87,
   "metadata": {},
   "outputs": [],
   "source": [
    "def encode_message(circ):\n",
    "    message = \"\"\n",
    "    while not (message==\"00\" or message==\"01\" or message==\"10\" or message==\"11\"):\n",
    "        print(\"Enter two-bit message (either 00, 01, 10, or 11):\")\n",
    "        message = input()\n",
    "    if message == \"00\":\n",
    "        pass\n",
    "    elif message == \"01\":\n",
    "        circ.z(0)\n",
    "    elif message == \"10\":\n",
    "        circ.x(0)\n",
    "    elif message == \"11\":\n",
    "        circ.x(0)\n",
    "        circ.z(0)\n",
    "    else:\n",
    "        print(\"An error occurred\")\n",
    "    circ.barrier()"
   ]
  },
  {
   "cell_type": "code",
   "execution_count": 88,
   "metadata": {},
   "outputs": [],
   "source": [
    "def bell_measurement(circ):\n",
    "    circ.cx(0,1)\n",
    "    circ.h(0)\n",
    "    circ.measure(0,0)\n",
    "    circ.measure(1,1)"
   ]
  },
  {
   "cell_type": "markdown",
   "metadata": {},
   "source": [
    "## Creating the circuit\n",
    "Run the following code cell, and enter a two-bit message"
   ]
  },
  {
   "cell_type": "code",
   "execution_count": 89,
   "metadata": {},
   "outputs": [
    {
     "name": "stdout",
     "output_type": "stream",
     "text": [
      "Enter two-bit message (either 00, 01, 10, or 11):\n"
     ]
    },
    {
     "name": "stdin",
     "output_type": "stream",
     "text": [
      " 01\n"
     ]
    },
    {
     "data": {
      "image/png": "[encoded data removed]",
      "text/plain": [
       "<Figure size 568.052x204.68 with 1 Axes>"
      ]
     },
     "execution_count": 89,
     "metadata": {},
     "output_type": "execute_result"
    }
   ],
   "source": [
    "circuit = QuantumCircuit(2,2)\n",
    "create_bell_pair(circuit)\n",
    "encode_message(circuit)\n",
    "bell_measurement(circuit)\n",
    "circuit.draw(\"mpl\")"
   ]
  },
  {
   "cell_type": "markdown",
   "metadata": {},
   "source": [
    "## Running the Circuit"
   ]
  },
  {
   "cell_type": "code",
   "execution_count": 90,
   "metadata": {},
   "outputs": [
    {
     "name": "stdout",
     "output_type": "stream",
     "text": [
      "Generated histogram:\n",
      "{'01': 4096}\n"
     ]
    },
    {
     "data": {
      "image/png": "[encoded data removed]",
      "text/plain": [
       "<Figure size 504x360 with 1 Axes>"
      ]
     },
     "execution_count": 90,
     "metadata": {},
     "output_type": "execute_result"
    }
   ],
   "source": [
    "# Run on simulator\n",
    "iqi_backend = QI.get_backend('QX single-node simulator')\n",
    "j=execute(circuit, backend=iqi_backend, shots=4096)\n",
    "result = j.result()\n",
    "print('Generated histogram:')\n",
    "print(result.get_counts())\n",
    "plot_histogram(result.get_counts())"
   ]
  },
  {
   "cell_type": "code",
   "execution_count": 91,
   "metadata": {},
   "outputs": [
    {
     "name": "stdout",
     "output_type": "stream",
     "text": [
      "Generated histogram:\n",
      "{'00': 390, '01': 3404, '10': 74, '11': 228}\n"
     ]
    },
    {
     "data": {
      "image/png": "[encoded data removed]",
      "text/plain": [
       "<Figure size 504x360 with 1 Axes>"
      ]
     },
     "execution_count": 91,
     "metadata": {},
     "output_type": "execute_result"
    }
   ],
   "source": [
    "# Run on hardware\n",
    "iqi_backend = QI.get_backend('Starmon-5')\n",
    "j=execute(circuit, backend=iqi_backend, shots=4096)\n",
    "result = j.result()\n",
    "print('Generated histogram:')\n",
    "print(result.get_counts())\n",
    "plot_histogram(result.get_counts())"
   ]
  },
  {
   "cell_type": "markdown",
   "metadata": {},
   "source": [
    "## Error Mitigation"
   ]
  },
  {
   "cell_type": "code",
   "execution_count": 78,
   "metadata": {},
   "outputs": [],
   "source": [
    "from qiskit.ignis.mitigation.measurement import (complete_meas_cal, tensored_meas_cal,\n",
    "                                                 CompleteMeasFitter, TensoredMeasFitter)"
   ]
  },
  {
   "cell_type": "code",
   "execution_count": 92,
   "metadata": {},
   "outputs": [
    {
     "data": {
      "text/plain": [
       "['00', '01', '10', '11']"
      ]
     },
     "execution_count": 92,
     "metadata": {},
     "output_type": "execute_result"
    }
   ],
   "source": [
    "qr = QuantumRegister(5)\n",
    "qubit_list = [1,2]\n",
    "meas_calibs, state_labels = complete_meas_cal(qubit_list=qubit_list, qr=qr, circlabel='mcal')\n",
    "state_labels"
   ]
  },
  {
   "cell_type": "code",
   "execution_count": 93,
   "metadata": {},
   "outputs": [],
   "source": [
    "iqi_backend = QI.get_backend('Starmon-5')\n",
    "job = execute(meas_calibs, backend=iqi_backend, shots=4096)\n",
    "cal_results = job.result()"
   ]
  },
  {
   "cell_type": "code",
   "execution_count": 94,
   "metadata": {},
   "outputs": [
    {
     "name": "stdout",
     "output_type": "stream",
     "text": [
      "[[0.941 0.108 0.065 0.005]\n",
      " [0.027 0.856 0.001 0.044]\n",
      " [0.032 0.002 0.908 0.088]\n",
      " [0.    0.034 0.026 0.863]]\n"
     ]
    }
   ],
   "source": [
    "meas_fitter = CompleteMeasFitter(cal_results, state_labels, circlabel='mcal')\n",
    "print(meas_fitter.cal_matrix)"
   ]
  },
  {
   "cell_type": "code",
   "execution_count": 95,
   "metadata": {},
   "outputs": [
    {
     "data": {
      "image/png": "[encoded data removed]",
      "text/plain": [
       "<Figure size 432x288 with 2 Axes>"
      ]
     },
     "metadata": {
      "needs_background": "light"
     },
     "output_type": "display_data"
    }
   ],
   "source": [
    "meas_fitter.plot_calibration()"
   ]
  },
  {
   "cell_type": "code",
   "execution_count": 96,
   "metadata": {},
   "outputs": [
    {
     "name": "stdout",
     "output_type": "stream",
     "text": [
      "Average Measurement Fidelity: 0.892000\n",
      "Average Measurement Fidelity of Q0: 0.954250\n"
     ]
    }
   ],
   "source": [
    "print(\"Average Measurement Fidelity: %f\" % meas_fitter.readout_fidelity())\n",
    "\n",
    "# What is the measurement fidelity of Q0?\n",
    "print(\"Average Measurement Fidelity of Q0: %f\" % meas_fitter.readout_fidelity(\n",
    "    label_list = [['00','01'],['10','11']]))"
   ]
  },
  {
   "cell_type": "code",
   "execution_count": 97,
   "metadata": {},
   "outputs": [],
   "source": [
    "# Results without mitigation\n",
    "raw_counts = result.get_counts()\n",
    "\n",
    "# Get the filter object\n",
    "meas_filter = meas_fitter.filter\n",
    "\n",
    "# Results with mitigation\n",
    "mitigated_results = meas_filter.apply(result)\n",
    "mitigated_counts = mitigated_results.get_counts(0)"
   ]
  },
  {
   "cell_type": "code",
   "execution_count": 98,
   "metadata": {},
   "outputs": [
    {
     "data": {
      "image/png": "[encoded data removed]",
      "text/plain": [
       "<Figure size 504x360 with 1 Axes>"
      ]
     },
     "execution_count": 98,
     "metadata": {},
     "output_type": "execute_result"
    }
   ],
   "source": [
    "plot_histogram([raw_counts, mitigated_counts], legend=['raw', 'mitigated'])"
   ]
  },
  {
   "cell_type": "markdown",
   "metadata": {},
   "source": [
    "Defining a Metric for Error Correction Codes There are numerous approaches to determining how robust an error correcting code is. The easiest place to start is with the ratio of encoded qubits to physical qubits. More effiecient codes requiring fewer physical qubits for each encoded qubit are preferred. In the case of repetition code, $|\\bar{0}> =|000>$ and $|\\bar{1}> = |111>$, we require 3 physical qubits for each encoded qubit. The second aspect to take into consideration is how many errors are required to map one encoded qubit to another; we call this the distance. Again considering the repetition code if we have one bit flip we can use majority vote and still have the correct encoded qubit. Thus, it takes two bit flips errors to map an encoded qubit to another. However, a single phase error, Pauli $Z$, takes the encoded qubit $|\\bar{\\text{+}}> = \\frac{1}{\\sqrt{2}}(|111> + |000>)$ to the encoded qubit $|\\bar{\\text{-}}> = \\frac{1}{\\sqrt{2}}(|111> - |000>)$. Thus, the minimum number of errors required to map one encoded qubit to another is 1: $distance=1$. Since quantum computers have different probabilities for different errors, we must take into account both the distance and the probability of the specific error. What we are interested in is the product of the distance and the probability of a specific error occurring, we define this this product to be total distance. We define our metric to be \\begin{equation} M = \\text{total distance}\\frac{\\text{encoded qubits}}{\\text{physical qubits}} \\end{equation}"
   ]
  },
  {
   "cell_type": "code",
   "execution_count": null,
   "metadata": {},
   "outputs": [],
   "source": []
  }
 ],
 "metadata": {
  "kernelspec": {
   "display_name": "Python 3",
   "language": "python",
   "name": "python3"
  },
  "language_info": {
   "codemirror_mode": {
    "name": "ipython",
    "version": 3
   },
   "file_extension": ".py",
   "mimetype": "text/x-python",
   "name": "python",
   "nbconvert_exporter": "python",
   "pygments_lexer": "ipython3",
   "version": "3.8.5"
  }
 },
 "nbformat": 4,
 "nbformat_minor": 5
}
